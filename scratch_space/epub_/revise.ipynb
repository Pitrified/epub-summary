{
 "cells": [
  {
   "cell_type": "markdown",
   "metadata": {},
   "source": [
    "# Revise an epub\n"
   ]
  },
  {
   "cell_type": "code",
   "execution_count": null,
   "metadata": {},
   "outputs": [],
   "source": [
    "%load_ext autoreload\n",
    "%autoreload 2"
   ]
  },
  {
   "cell_type": "code",
   "execution_count": 15,
   "metadata": {},
   "outputs": [],
   "source": [
    "from loguru import logger as lg\n",
    "\n",
    "from epub_summary.config.epub_summary_config import EPUB_SUMMARY_PATHS\n",
    "from epub_summary.epubber.epub import Epub"
   ]
  },
  {
   "cell_type": "markdown",
   "metadata": {},
   "source": [
    "## Load an epub\n"
   ]
  },
  {
   "cell_type": "code",
   "execution_count": null,
   "metadata": {},
   "outputs": [],
   "source": [
    "epub_fn = \"mystery_yellow_room.epub\"\n",
    "epub_fp = EPUB_SUMMARY_PATHS.sample_epub_fol / epub_fn\n",
    "\n",
    "# epub_fn = \"echoes_of_song.epub\"\n",
    "# epub_fp = EPUB_SUMMARY_PATHS.dump_epub_fol / epub_fn\n",
    "\n",
    "lg.info(f\"{epub_fp=}\")"
   ]
  },
  {
   "cell_type": "code",
   "execution_count": null,
   "metadata": {},
   "outputs": [],
   "source": [
    "ep = Epub.from_zip(epub_fp)"
   ]
  },
  {
   "cell_type": "code",
   "execution_count": null,
   "metadata": {},
   "outputs": [],
   "source": [
    "ch = ep.chapters[0]\n",
    "# ch = ep.chapters[5]\n",
    "lg.debug(ch.chap_stem)\n",
    "lg.debug(f\"{len(ch.text)=}\")\n",
    "words_len = len(ch.text.split())\n",
    "lg.debug(f\"{words_len=}\")\n",
    "lg.info(ch.text[:400])"
   ]
  },
  {
   "cell_type": "markdown",
   "metadata": {},
   "source": [
    "## Revise the chapter\n"
   ]
  },
  {
   "cell_type": "code",
   "execution_count": 27,
   "metadata": {},
   "outputs": [],
   "source": [
    "from epub_summary.config.chat_openai import CHAT_OPENAI_CONFIG, ChatOpenAIConfig\n",
    "from epub_summary.summarizer.reviser import ChapterReviser\n",
    "\n",
    "cr = ChapterReviser(CHAT_OPENAI_CONFIG)"
   ]
  },
  {
   "cell_type": "code",
   "execution_count": 28,
   "metadata": {},
   "outputs": [],
   "source": [
    "rev = cr.invoke(ch.text)"
   ]
  },
  {
   "cell_type": "code",
   "execution_count": 29,
   "metadata": {},
   "outputs": [],
   "source": [
    "# lg.info(rev.summary)"
   ]
  },
  {
   "cell_type": "code",
   "execution_count": null,
   "metadata": {},
   "outputs": [],
   "source": [
    "lg.debug(f\"{len(rev.revised_chapter)=}\")\n",
    "lg.debug(f\"{len(rev.revised_chapter.split())=}\")\n",
    "lg.info(rev.revised_chapter)"
   ]
  }
 ],
 "metadata": {
  "kernelspec": {
   "display_name": "epub-summary-CBUCnEs1-py3.11",
   "language": "python",
   "name": "python3"
  },
  "language_info": {
   "codemirror_mode": {
    "name": "ipython",
    "version": 3
   },
   "file_extension": ".py",
   "mimetype": "text/x-python",
   "name": "python",
   "nbconvert_exporter": "python",
   "pygments_lexer": "ipython3",
   "version": "3.11.10"
  }
 },
 "nbformat": 4,
 "nbformat_minor": 2
}
