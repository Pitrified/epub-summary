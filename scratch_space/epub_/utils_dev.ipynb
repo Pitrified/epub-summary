{
 "cells": [
  {
   "cell_type": "markdown",
   "metadata": {},
   "source": [
    "# Dev utils for epub module\n"
   ]
  },
  {
   "cell_type": "code",
   "execution_count": 1,
   "metadata": {},
   "outputs": [],
   "source": [
    "%load_ext autoreload\n",
    "%autoreload 2"
   ]
  },
  {
   "cell_type": "code",
   "execution_count": null,
   "metadata": {},
   "outputs": [],
   "source": [
    "from loguru import logger as lg\n",
    "\n",
    "from epub_summary.epubber.utils import str_to_p_tag"
   ]
  },
  {
   "cell_type": "code",
   "execution_count": null,
   "metadata": {},
   "outputs": [],
   "source": [
    "p_tag = str_to_p_tag(\"hello\")\n",
    "lg.info(p_tag)\n",
    "lg.info(p_tag.text)\n",
    "lg.info(p_tag.tag)\n",
    "lg.info(p_tag.tag_name)\n",
    "lg.info(f\"{type(p_tag)}\")"
   ]
  }
 ],
 "metadata": {
  "kernelspec": {
   "display_name": "epub-summary-CBUCnEs1-py3.11",
   "language": "python",
   "name": "python3"
  },
  "language_info": {
   "codemirror_mode": {
    "name": "ipython",
    "version": 3
   },
   "file_extension": ".py",
   "mimetype": "text/x-python",
   "name": "python",
   "nbconvert_exporter": "python",
   "pygments_lexer": "ipython3",
   "version": "3.11.10"
  }
 },
 "nbformat": 4,
 "nbformat_minor": 2
}
