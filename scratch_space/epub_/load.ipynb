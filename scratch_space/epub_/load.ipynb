{
 "cells": [
  {
   "cell_type": "markdown",
   "metadata": {},
   "source": [
    "# Load an epub\n"
   ]
  },
  {
   "cell_type": "code",
   "execution_count": 1,
   "metadata": {},
   "outputs": [],
   "source": [
    "%load_ext autoreload\n",
    "%autoreload 2"
   ]
  },
  {
   "cell_type": "code",
   "execution_count": 9,
   "metadata": {},
   "outputs": [],
   "source": [
    "from loguru import logger as lg\n",
    "\n",
    "from epub_summary.epubber.epub import Epub\n",
    "\n",
    "from epub_summary.config.epub_summary_config import EPUB_SUMMARY_PATHS\n",
    "from epub_summary.epubber.utils import str_to_p_tag"
   ]
  },
  {
   "cell_type": "markdown",
   "metadata": {},
   "source": [
    "## Load an epub\n"
   ]
  },
  {
   "cell_type": "code",
   "execution_count": null,
   "metadata": {},
   "outputs": [],
   "source": [
    "epub_fn = \"mystery_yellow_room.epub\"\n",
    "epub_fp = EPUB_SUMMARY_PATHS.sample_epub_fol / epub_fn\n",
    "lg.info(f\"{epub_fp=}\")"
   ]
  },
  {
   "cell_type": "code",
   "execution_count": null,
   "metadata": {},
   "outputs": [],
   "source": [
    "ep = Epub.from_zip(epub_fp)"
   ]
  },
  {
   "cell_type": "code",
   "execution_count": null,
   "metadata": {},
   "outputs": [],
   "source": [
    "ch = ep.chapters[0]\n",
    "lg.debug(ch.chap_stem)\n",
    "lg.info(ch.text[:400])"
   ]
  },
  {
   "cell_type": "code",
   "execution_count": null,
   "metadata": {},
   "outputs": [],
   "source": [
    "par = ch.paragraphs[0]\n",
    "lg.debug(par.p_str)\n",
    "lg.debug(par.p_tag)"
   ]
  }
 ],
 "metadata": {
  "kernelspec": {
   "display_name": "epub-summary-CBUCnEs1-py3.11",
   "language": "python",
   "name": "python3"
  },
  "language_info": {
   "codemirror_mode": {
    "name": "ipython",
    "version": 3
   },
   "file_extension": ".py",
   "mimetype": "text/x-python",
   "name": "python",
   "nbconvert_exporter": "python",
   "pygments_lexer": "ipython3",
   "version": "3.11.10"
  }
 },
 "nbformat": 4,
 "nbformat_minor": 2
}
